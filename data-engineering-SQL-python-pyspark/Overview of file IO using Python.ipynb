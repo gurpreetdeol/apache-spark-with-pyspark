{
 "cells": [
  {
   "cell_type": "code",
   "id": "initial_id",
   "metadata": {
    "collapsed": true,
    "ExecuteTime": {
     "end_time": "2024-08-21T23:25:58.113468Z",
     "start_time": "2024-08-21T23:25:58.110463Z"
    }
   },
   "source": "f = open('data/retail_db/orders/part-00000', 'r')",
   "outputs": [],
   "execution_count": 13
  },
  {
   "metadata": {
    "ExecuteTime": {
     "end_time": "2024-08-21T23:25:58.650931Z",
     "start_time": "2024-08-21T23:25:58.642673Z"
    }
   },
   "cell_type": "code",
   "source": "orders_str = f.read() ",
   "id": "2d8a0246aed39182",
   "outputs": [],
   "execution_count": 14
  },
  {
   "metadata": {
    "ExecuteTime": {
     "end_time": "2024-08-21T23:25:59.168901Z",
     "start_time": "2024-08-21T23:25:59.161636Z"
    }
   },
   "cell_type": "code",
   "source": "orders = orders_str.splitlines()",
   "id": "683b7a84c5e95214",
   "outputs": [],
   "execution_count": 15
  },
  {
   "metadata": {
    "ExecuteTime": {
     "end_time": "2024-08-21T23:25:59.660369Z",
     "start_time": "2024-08-21T23:25:59.657146Z"
    }
   },
   "cell_type": "code",
   "source": "len(orders)",
   "id": "717f1bfbdacbd0d0",
   "outputs": [
    {
     "data": {
      "text/plain": [
       "68883"
      ]
     },
     "execution_count": 16,
     "metadata": {},
     "output_type": "execute_result"
    }
   ],
   "execution_count": 16
  },
  {
   "metadata": {
    "ExecuteTime": {
     "end_time": "2024-08-21T23:26:31.953232Z",
     "start_time": "2024-08-21T23:26:31.949312Z"
    }
   },
   "cell_type": "code",
   "source": "orders[:10]",
   "id": "930c0711bccb2fb6",
   "outputs": [
    {
     "data": {
      "text/plain": [
       "['1,2013-07-25 00:00:00.0,11599,CLOSED',\n",
       " '2,2013-07-25 00:00:00.0,256,PENDING_PAYMENT',\n",
       " '3,2013-07-25 00:00:00.0,12111,COMPLETE',\n",
       " '4,2013-07-25 00:00:00.0,8827,CLOSED',\n",
       " '5,2013-07-25 00:00:00.0,11318,COMPLETE',\n",
       " '6,2013-07-25 00:00:00.0,7130,COMPLETE',\n",
       " '7,2013-07-25 00:00:00.0,4530,COMPLETE',\n",
       " '8,2013-07-25 00:00:00.0,2911,PROCESSING',\n",
       " '9,2013-07-25 00:00:00.0,5657,PENDING_PAYMENT',\n",
       " '10,2013-07-25 00:00:00.0,5648,PENDING_PAYMENT']"
      ]
     },
     "execution_count": 19,
     "metadata": {},
     "output_type": "execute_result"
    }
   ],
   "execution_count": 19
  },
  {
   "metadata": {
    "ExecuteTime": {
     "end_time": "2024-08-21T23:26:14.604742Z",
     "start_time": "2024-08-21T23:26:14.601494Z"
    }
   },
   "cell_type": "code",
   "source": "orders[-10:]",
   "id": "7dc388599d2b4a2d",
   "outputs": [
    {
     "data": {
      "text/plain": [
       "['68874,2014-07-03 00:00:00.0,1601,COMPLETE',\n",
       " '68875,2014-07-04 00:00:00.0,10637,ON_HOLD',\n",
       " '68876,2014-07-06 00:00:00.0,4124,COMPLETE',\n",
       " '68877,2014-07-07 00:00:00.0,9692,ON_HOLD',\n",
       " '68878,2014-07-08 00:00:00.0,6753,COMPLETE',\n",
       " '68879,2014-07-09 00:00:00.0,778,COMPLETE',\n",
       " '68880,2014-07-13 00:00:00.0,1117,COMPLETE',\n",
       " '68881,2014-07-19 00:00:00.0,2518,PENDING_PAYMENT',\n",
       " '68882,2014-07-22 00:00:00.0,10000,ON_HOLD',\n",
       " '68883,2014-07-23 00:00:00.0,5533,COMPLETE']"
      ]
     },
     "execution_count": 18,
     "metadata": {},
     "output_type": "execute_result"
    }
   ],
   "execution_count": 18
  },
  {
   "metadata": {
    "ExecuteTime": {
     "end_time": "2024-08-21T23:29:31.357852Z",
     "start_time": "2024-08-21T23:29:31.355298Z"
    }
   },
   "cell_type": "code",
   "source": "import json",
   "id": "91e1eed2025a8305",
   "outputs": [],
   "execution_count": 20
  },
  {
   "metadata": {
    "ExecuteTime": {
     "end_time": "2024-08-21T23:31:46.370131Z",
     "start_time": "2024-08-21T23:31:46.366678Z"
    }
   },
   "cell_type": "code",
   "source": [
    "order_jd = '{\"order_id\":1, \"order_date\":\"2024-08-01\"}'\n",
    "od_jd = json.loads(order_jd)"
   ],
   "id": "ec36d10045ccca7d",
   "outputs": [],
   "execution_count": 22
  },
  {
   "metadata": {
    "ExecuteTime": {
     "end_time": "2024-08-21T23:31:55.153657Z",
     "start_time": "2024-08-21T23:31:55.149243Z"
    }
   },
   "cell_type": "code",
   "source": "od_jd[\"order_date\"]",
   "id": "7a7a4df096e7be86",
   "outputs": [
    {
     "data": {
      "text/plain": [
       "'2024-08-01'"
      ]
     },
     "execution_count": 23,
     "metadata": {},
     "output_type": "execute_result"
    }
   ],
   "execution_count": 23
  },
  {
   "metadata": {
    "ExecuteTime": {
     "end_time": "2024-08-21T23:32:59.659094Z",
     "start_time": "2024-08-21T23:32:59.656448Z"
    }
   },
   "cell_type": "code",
   "source": "file_path = \"data/retail_db/schemas.json\"",
   "id": "76711761edec22a2",
   "outputs": [],
   "execution_count": 24
  },
  {
   "metadata": {
    "ExecuteTime": {
     "end_time": "2024-08-21T23:33:37.231516Z",
     "start_time": "2024-08-21T23:33:37.228517Z"
    }
   },
   "cell_type": "code",
   "source": "schema = json.load(open(file_path, 'r'))",
   "id": "7248030d6b13e31b",
   "outputs": [],
   "execution_count": 26
  },
  {
   "metadata": {
    "ExecuteTime": {
     "end_time": "2024-08-21T23:33:40.293275Z",
     "start_time": "2024-08-21T23:33:40.288392Z"
    }
   },
   "cell_type": "code",
   "source": "schema",
   "id": "c36babcbe8b0bdff",
   "outputs": [
    {
     "data": {
      "text/plain": [
       "{'departments': [{'column_name': 'department_id',\n",
       "   'data_type': 'integer',\n",
       "   'column_position': 1},\n",
       "  {'column_name': 'department_name',\n",
       "   'data_type': 'string',\n",
       "   'column_position': 2}],\n",
       " 'categories': [{'column_name': 'category_id',\n",
       "   'data_type': 'integer',\n",
       "   'column_position': 1},\n",
       "  {'column_name': 'category_department_id',\n",
       "   'data_type': 'integer',\n",
       "   'column_position': 2},\n",
       "  {'column_name': 'category_name',\n",
       "   'data_type': 'string',\n",
       "   'column_position': 3}],\n",
       " 'orders': [{'column_name': 'order_id',\n",
       "   'data_type': 'integer',\n",
       "   'column_position': 1},\n",
       "  {'column_name': 'order_date', 'data_type': 'string', 'column_position': 2},\n",
       "  {'column_name': 'order_customer_id',\n",
       "   'data_type': 'timestamp',\n",
       "   'column_position': 3},\n",
       "  {'column_name': 'order_status',\n",
       "   'data_type': 'string',\n",
       "   'column_position': 4}],\n",
       " 'products': [{'column_name': 'product_id',\n",
       "   'data_type': 'integer',\n",
       "   'column_position': 1},\n",
       "  {'column_name': 'product_cateogry_id',\n",
       "   'data_type': 'integer',\n",
       "   'column_position': 2},\n",
       "  {'column_name': 'product_name', 'data_type': '', 'column_position': 3},\n",
       "  {'column_name': 'product_description',\n",
       "   'data_type': 'string',\n",
       "   'column_position': 4},\n",
       "  {'column_name': 'product_price', 'data_type': 'float', 'column_position': 5},\n",
       "  {'column_name': 'product_image',\n",
       "   'data_type': 'string',\n",
       "   'column_position': 6}],\n",
       " 'customers': [{'column_name': 'customer_id',\n",
       "   'data_type': 'integer',\n",
       "   'column_position': 1},\n",
       "  {'column_name': 'customer_fname',\n",
       "   'data_type': 'string',\n",
       "   'column_position': 2},\n",
       "  {'column_name': 'customer_lname',\n",
       "   'data_type': 'string',\n",
       "   'column_position': 3},\n",
       "  {'column_name': 'customer_email',\n",
       "   'data_type': 'string',\n",
       "   'column_position': 4},\n",
       "  {'column_name': 'customer_password',\n",
       "   'data_type': 'string',\n",
       "   'column_position': 5},\n",
       "  {'column_name': 'customer_street',\n",
       "   'data_type': 'string',\n",
       "   'column_position': 6},\n",
       "  {'column_name': 'customer_city',\n",
       "   'data_type': 'string',\n",
       "   'column_position': 7},\n",
       "  {'column_name': 'customer_state',\n",
       "   'data_type': 'string',\n",
       "   'column_position': 8},\n",
       "  {'column_name': 'customer_zipcode',\n",
       "   'data_type': 'integer',\n",
       "   'column_position': 9}],\n",
       " 'order_items': [{'column_name': 'order_item_id',\n",
       "   'data_type': 'integer',\n",
       "   'column_position': 1},\n",
       "  {'column_name': 'order_item_order_id',\n",
       "   'data_type': 'integer',\n",
       "   'column_position': 2},\n",
       "  {'column_name': 'order_item_product_id',\n",
       "   'data_type': 'integer',\n",
       "   'column_position': 3},\n",
       "  {'column_name': 'order_item_quantity',\n",
       "   'data_type': 'integer',\n",
       "   'column_position': 4},\n",
       "  {'column_name': 'order_item_subtotal',\n",
       "   'data_type': 'float',\n",
       "   'column_position': 5},\n",
       "  {'column_name': 'order_item_product_price',\n",
       "   'data_type': 'float',\n",
       "   'column_position': 6}]}"
      ]
     },
     "execution_count": 27,
     "metadata": {},
     "output_type": "execute_result"
    }
   ],
   "execution_count": 27
  },
  {
   "metadata": {
    "ExecuteTime": {
     "end_time": "2024-08-21T23:34:20.448968Z",
     "start_time": "2024-08-21T23:34:20.446237Z"
    }
   },
   "cell_type": "code",
   "source": "schema.get(\"orders\")",
   "id": "f2778ffdcd6d48ac",
   "outputs": [
    {
     "data": {
      "text/plain": [
       "[{'column_name': 'order_id', 'data_type': 'integer', 'column_position': 1},\n",
       " {'column_name': 'order_date', 'data_type': 'string', 'column_position': 2},\n",
       " {'column_name': 'order_customer_id',\n",
       "  'data_type': 'timestamp',\n",
       "  'column_position': 3},\n",
       " {'column_name': 'order_status', 'data_type': 'string', 'column_position': 4}]"
      ]
     },
     "execution_count": 28,
     "metadata": {},
     "output_type": "execute_result"
    }
   ],
   "execution_count": 28
  },
  {
   "metadata": {
    "ExecuteTime": {
     "end_time": "2024-08-21T23:34:27.806673Z",
     "start_time": "2024-08-21T23:34:27.802798Z"
    }
   },
   "cell_type": "code",
   "source": "schema[\"orders\"]",
   "id": "b4d93f6ae9b4e935",
   "outputs": [
    {
     "data": {
      "text/plain": [
       "[{'column_name': 'order_id', 'data_type': 'integer', 'column_position': 1},\n",
       " {'column_name': 'order_date', 'data_type': 'string', 'column_position': 2},\n",
       " {'column_name': 'order_customer_id',\n",
       "  'data_type': 'timestamp',\n",
       "  'column_position': 3},\n",
       " {'column_name': 'order_status', 'data_type': 'string', 'column_position': 4}]"
      ]
     },
     "execution_count": 29,
     "metadata": {},
     "output_type": "execute_result"
    }
   ],
   "execution_count": 29
  },
  {
   "metadata": {},
   "cell_type": "code",
   "outputs": [],
   "execution_count": null,
   "source": "# schema.get_column_names",
   "id": "9f3b0f04ee26115d"
  },
  {
   "metadata": {
    "ExecuteTime": {
     "end_time": "2024-08-21T23:36:29.186748Z",
     "start_time": "2024-08-21T23:36:29.182615Z"
    }
   },
   "cell_type": "code",
   "source": [
    "column_details = [{'column_name': 'order_id', 'data_type': 'integer', 'column_position': 1},\n",
    " {'column_name': 'order_date', 'data_type': 'string', 'column_position': 2},\n",
    " {'column_name': 'order_customer_id',\n",
    "  'data_type': 'timestamp',\n",
    "  'column_position': 3},\n",
    " {'column_name': 'order_status', 'data_type': 'string', 'column_position': 4}]"
   ],
   "id": "c53b275b21489a76",
   "outputs": [],
   "execution_count": 30
  },
  {
   "metadata": {
    "ExecuteTime": {
     "end_time": "2024-08-21T23:36:58.618112Z",
     "start_time": "2024-08-21T23:36:58.614845Z"
    }
   },
   "cell_type": "code",
   "source": "[col[\"column_name\"] for col in column_details]",
   "id": "f89856a64539eca5",
   "outputs": [
    {
     "data": {
      "text/plain": [
       "['order_id', 'order_date', 'order_customer_id', 'order_status']"
      ]
     },
     "execution_count": 31,
     "metadata": {},
     "output_type": "execute_result"
    }
   ],
   "execution_count": 31
  },
  {
   "metadata": {
    "ExecuteTime": {
     "end_time": "2024-08-21T23:37:57.552668Z",
     "start_time": "2024-08-21T23:37:57.549291Z"
    }
   },
   "cell_type": "code",
   "source": "list(map(lambda col:col[\"column_name\"], column_details))",
   "id": "1b61b6e8fe236721",
   "outputs": [
    {
     "data": {
      "text/plain": [
       "['order_id', 'order_date', 'order_customer_id', 'order_status']"
      ]
     },
     "execution_count": 32,
     "metadata": {},
     "output_type": "execute_result"
    }
   ],
   "execution_count": 32
  },
  {
   "metadata": {
    "ExecuteTime": {
     "end_time": "2024-08-21T23:50:58.664006Z",
     "start_time": "2024-08-21T23:50:58.657503Z"
    }
   },
   "cell_type": "code",
   "source": "sorted(list(map(lambda col:col[\"column_name\"], column_details)))",
   "id": "d5c355bf93115ed8",
   "outputs": [
    {
     "data": {
      "text/plain": [
       "['order_customer_id', 'order_date', 'order_id', 'order_status']"
      ]
     },
     "execution_count": 33,
     "metadata": {},
     "output_type": "execute_result"
    }
   ],
   "execution_count": 33
  },
  {
   "metadata": {
    "ExecuteTime": {
     "end_time": "2024-08-21T23:51:26.441831Z",
     "start_time": "2024-08-21T23:51:26.437306Z"
    }
   },
   "cell_type": "code",
   "source": "sorted(column_details, key=lambda col: col[\"column_name\"])",
   "id": "ffda5a5680612a3b",
   "outputs": [
    {
     "data": {
      "text/plain": [
       "[{'column_name': 'order_customer_id',\n",
       "  'data_type': 'timestamp',\n",
       "  'column_position': 3},\n",
       " {'column_name': 'order_date', 'data_type': 'string', 'column_position': 2},\n",
       " {'column_name': 'order_id', 'data_type': 'integer', 'column_position': 1},\n",
       " {'column_name': 'order_status', 'data_type': 'string', 'column_position': 4}]"
      ]
     },
     "execution_count": 34,
     "metadata": {},
     "output_type": "execute_result"
    }
   ],
   "execution_count": 34
  },
  {
   "metadata": {
    "ExecuteTime": {
     "end_time": "2024-08-21T23:51:34.109092Z",
     "start_time": "2024-08-21T23:51:34.104790Z"
    }
   },
   "cell_type": "code",
   "source": "sorted(column_details, key=lambda col: col[\"column_name\"], reverse=True)",
   "id": "5a8163026b9b3d21",
   "outputs": [
    {
     "data": {
      "text/plain": [
       "[{'column_name': 'order_status', 'data_type': 'string', 'column_position': 4},\n",
       " {'column_name': 'order_id', 'data_type': 'integer', 'column_position': 1},\n",
       " {'column_name': 'order_date', 'data_type': 'string', 'column_position': 2},\n",
       " {'column_name': 'order_customer_id',\n",
       "  'data_type': 'timestamp',\n",
       "  'column_position': 3}]"
      ]
     },
     "execution_count": 35,
     "metadata": {},
     "output_type": "execute_result"
    }
   ],
   "execution_count": 35
  },
  {
   "metadata": {
    "ExecuteTime": {
     "end_time": "2024-08-21T23:52:03.704186Z",
     "start_time": "2024-08-21T23:52:03.700680Z"
    }
   },
   "cell_type": "code",
   "source": "sorted(column_details, key=lambda col: col[\"data_type\"], reverse=False)",
   "id": "f8a2c842bddebb48",
   "outputs": [
    {
     "data": {
      "text/plain": [
       "[{'column_name': 'order_id', 'data_type': 'integer', 'column_position': 1},\n",
       " {'column_name': 'order_date', 'data_type': 'string', 'column_position': 2},\n",
       " {'column_name': 'order_status', 'data_type': 'string', 'column_position': 4},\n",
       " {'column_name': 'order_customer_id',\n",
       "  'data_type': 'timestamp',\n",
       "  'column_position': 3}]"
      ]
     },
     "execution_count": 36,
     "metadata": {},
     "output_type": "execute_result"
    }
   ],
   "execution_count": 36
  },
  {
   "metadata": {
    "ExecuteTime": {
     "end_time": "2024-08-21T23:56:05.272733Z",
     "start_time": "2024-08-21T23:56:05.269832Z"
    }
   },
   "cell_type": "code",
   "source": [
    "def get_column_names(schema, ds_name, sorting_key='column_position', reverse=False):\n",
    "    column_details = schema[ds_name]\n",
    "    columns = sorted(column_details, key=lambda col: col[sorting_key], reverse=reverse)\n",
    "    return columns"
   ],
   "id": "456d1f665ff96e3a",
   "outputs": [],
   "execution_count": 43
  },
  {
   "metadata": {
    "ExecuteTime": {
     "end_time": "2024-08-21T23:56:05.780518Z",
     "start_time": "2024-08-21T23:56:05.777501Z"
    }
   },
   "cell_type": "code",
   "source": "get_column_names(schema, \"orders\")",
   "id": "e509168792e3647c",
   "outputs": [
    {
     "data": {
      "text/plain": [
       "[{'column_name': 'order_id', 'data_type': 'integer', 'column_position': 1},\n",
       " {'column_name': 'order_date', 'data_type': 'string', 'column_position': 2},\n",
       " {'column_name': 'order_customer_id',\n",
       "  'data_type': 'timestamp',\n",
       "  'column_position': 3},\n",
       " {'column_name': 'order_status', 'data_type': 'string', 'column_position': 4}]"
      ]
     },
     "execution_count": 44,
     "metadata": {},
     "output_type": "execute_result"
    }
   ],
   "execution_count": 44
  },
  {
   "metadata": {
    "ExecuteTime": {
     "end_time": "2024-08-21T23:56:28.178107Z",
     "start_time": "2024-08-21T23:56:28.174535Z"
    }
   },
   "cell_type": "code",
   "source": "get_column_names(schema, \"orders\", \"column_name\", reverse=True)",
   "id": "cf98e9c618bd63ba",
   "outputs": [
    {
     "data": {
      "text/plain": [
       "[{'column_name': 'order_status', 'data_type': 'string', 'column_position': 4},\n",
       " {'column_name': 'order_id', 'data_type': 'integer', 'column_position': 1},\n",
       " {'column_name': 'order_date', 'data_type': 'string', 'column_position': 2},\n",
       " {'column_name': 'order_customer_id',\n",
       "  'data_type': 'timestamp',\n",
       "  'column_position': 3}]"
      ]
     },
     "execution_count": 49,
     "metadata": {},
     "output_type": "execute_result"
    }
   ],
   "execution_count": 49
  },
  {
   "metadata": {
    "ExecuteTime": {
     "end_time": "2024-08-21T23:56:20.219335Z",
     "start_time": "2024-08-21T23:56:20.215367Z"
    }
   },
   "cell_type": "code",
   "source": "get_column_names(schema, \"orders\", \"data_type\", False)",
   "id": "5a651c518a943c38",
   "outputs": [
    {
     "data": {
      "text/plain": [
       "[{'column_name': 'order_id', 'data_type': 'integer', 'column_position': 1},\n",
       " {'column_name': 'order_date', 'data_type': 'string', 'column_position': 2},\n",
       " {'column_name': 'order_status', 'data_type': 'string', 'column_position': 4},\n",
       " {'column_name': 'order_customer_id',\n",
       "  'data_type': 'timestamp',\n",
       "  'column_position': 3}]"
      ]
     },
     "execution_count": 48,
     "metadata": {},
     "output_type": "execute_result"
    }
   ],
   "execution_count": 48
  },
  {
   "metadata": {},
   "cell_type": "code",
   "outputs": [],
   "execution_count": null,
   "source": "",
   "id": "9c473d382d6c5c35"
  }
 ],
 "metadata": {
  "kernelspec": {
   "display_name": "Python 3",
   "language": "python",
   "name": "python3"
  },
  "language_info": {
   "codemirror_mode": {
    "name": "ipython",
    "version": 2
   },
   "file_extension": ".py",
   "mimetype": "text/x-python",
   "name": "python",
   "nbconvert_exporter": "python",
   "pygments_lexer": "ipython2",
   "version": "2.7.6"
  }
 },
 "nbformat": 4,
 "nbformat_minor": 5
}
