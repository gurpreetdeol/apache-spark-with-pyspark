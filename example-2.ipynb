{
 "cells": [
  {
   "cell_type": "code",
   "id": "initial_id",
   "metadata": {
    "collapsed": true,
    "ExecuteTime": {
     "end_time": "2024-08-17T22:54:17.123200Z",
     "start_time": "2024-08-17T22:54:17.119864Z"
    }
   },
   "source": "from pyspark.sql import SparkSession",
   "outputs": [],
   "execution_count": 3
  },
  {
   "metadata": {
    "ExecuteTime": {
     "end_time": "2024-08-17T22:54:22.611240Z",
     "start_time": "2024-08-17T22:54:17.904546Z"
    }
   },
   "cell_type": "code",
   "source": "sc = SparkSession.builder.appName(\"Spark App 2\").getOrCreate()",
   "id": "5c9d36aa08f658",
   "outputs": [],
   "execution_count": 4
  },
  {
   "metadata": {
    "ExecuteTime": {
     "end_time": "2024-08-17T22:59:20.978062Z",
     "start_time": "2024-08-17T22:59:20.907421Z"
    }
   },
   "cell_type": "code",
   "source": [
    "df = sc.createDataFrame([(\"Gurpreet\",42),(\"Sukhdeep\", 39),(\"Nishaan\",10)],schema=\n",
    "                        [\"Name\", \"Age\"])"
   ],
   "id": "5f5d13f856f5e6e4",
   "outputs": [],
   "execution_count": 8
  },
  {
   "metadata": {
    "ExecuteTime": {
     "end_time": "2024-08-17T22:59:21.891674Z",
     "start_time": "2024-08-17T22:59:21.887077Z"
    }
   },
   "cell_type": "code",
   "source": "df.columns",
   "id": "10bcf8b10a5aca65",
   "outputs": [
    {
     "data": {
      "text/plain": [
       "['Name', 'Age']"
      ]
     },
     "execution_count": 9,
     "metadata": {},
     "output_type": "execute_result"
    }
   ],
   "execution_count": 9
  },
  {
   "metadata": {},
   "cell_type": "code",
   "outputs": [],
   "execution_count": null,
   "source": "",
   "id": "47e950fa841599c"
  }
 ],
 "metadata": {
  "kernelspec": {
   "display_name": "Python 3",
   "language": "python",
   "name": "python3"
  },
  "language_info": {
   "codemirror_mode": {
    "name": "ipython",
    "version": 2
   },
   "file_extension": ".py",
   "mimetype": "text/x-python",
   "name": "python",
   "nbconvert_exporter": "python",
   "pygments_lexer": "ipython2",
   "version": "2.7.6"
  }
 },
 "nbformat": 4,
 "nbformat_minor": 5
}
