{
 "cells": [
  {
   "cell_type": "code",
   "id": "initial_id",
   "metadata": {
    "collapsed": true,
    "ExecuteTime": {
     "end_time": "2024-08-16T00:09:59.796482Z",
     "start_time": "2024-08-16T00:09:59.731326Z"
    }
   },
   "source": "from pyspark.sql import SparkSession",
   "outputs": [],
   "execution_count": 1
  },
  {
   "metadata": {
    "ExecuteTime": {
     "end_time": "2024-08-16T00:10:10.501188Z",
     "start_time": "2024-08-16T00:10:08.143779Z"
    }
   },
   "cell_type": "code",
   "source": "spark = SparkSession.builder.getOrCreate()",
   "id": "fb5e851102c2d8ef",
   "outputs": [],
   "execution_count": 2
  },
  {
   "metadata": {
    "ExecuteTime": {
     "end_time": "2024-08-16T00:10:29.097891Z",
     "start_time": "2024-08-16T00:10:29.093436Z"
    }
   },
   "cell_type": "code",
   "source": "print(spark.version)",
   "id": "23d2fc946ff06231",
   "outputs": [
    {
     "name": "stdout",
     "output_type": "stream",
     "text": [
      "3.5.2\n"
     ]
    }
   ],
   "execution_count": 3
  },
  {
   "metadata": {
    "ExecuteTime": {
     "end_time": "2024-08-16T00:10:30.341822Z",
     "start_time": "2024-08-16T00:10:30.339088Z"
    }
   },
   "cell_type": "code",
   "source": "data = [(\"Java\", \"20000\"), (\"Python\", \"100000\"), (\"Scala\", \"3000\")]",
   "id": "ce1199a735f7a222",
   "outputs": [],
   "execution_count": 4
  },
  {
   "metadata": {
    "ExecuteTime": {
     "end_time": "2024-08-16T00:10:33.287047Z",
     "start_time": "2024-08-16T00:10:32.035463Z"
    }
   },
   "cell_type": "code",
   "source": "df = spark.createDataFrame(data)",
   "id": "4408d51364086ffc",
   "outputs": [],
   "execution_count": 5
  },
  {
   "metadata": {
    "ExecuteTime": {
     "end_time": "2024-08-16T00:12:56.979005Z",
     "start_time": "2024-08-16T00:12:56.973438Z"
    }
   },
   "cell_type": "code",
   "source": "df",
   "id": "46d7c1925072e791",
   "outputs": [
    {
     "data": {
      "text/plain": [
       "DataFrame[_1: string, _2: string]"
      ]
     },
     "execution_count": 8,
     "metadata": {},
     "output_type": "execute_result"
    }
   ],
   "execution_count": 8
  },
  {
   "metadata": {
    "ExecuteTime": {
     "end_time": "2024-08-15T21:46:40.794626Z",
     "start_time": "2024-08-15T21:46:40.792026Z"
    }
   },
   "cell_type": "code",
   "source": "",
   "id": "ca0bcd7a7abb44ce",
   "outputs": [],
   "execution_count": null
  },
  {
   "metadata": {},
   "cell_type": "code",
   "outputs": [],
   "execution_count": null,
   "source": "",
   "id": "5698fccc110da582"
  }
 ],
 "metadata": {
  "kernelspec": {
   "display_name": "Python 3",
   "language": "python",
   "name": "python3"
  },
  "language_info": {
   "codemirror_mode": {
    "name": "ipython",
    "version": 2
   },
   "file_extension": ".py",
   "mimetype": "text/x-python",
   "name": "python",
   "nbconvert_exporter": "python",
   "pygments_lexer": "ipython2",
   "version": "2.7.6"
  }
 },
 "nbformat": 4,
 "nbformat_minor": 5
}
