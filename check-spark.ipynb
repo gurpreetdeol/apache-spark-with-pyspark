{
 "cells": [
  {
   "cell_type": "code",
   "id": "initial_id",
   "metadata": {
    "collapsed": true,
    "ExecuteTime": {
     "end_time": "2024-08-17T22:50:36.903019Z",
     "start_time": "2024-08-17T22:50:36.798513Z"
    }
   },
   "source": "from pyspark.sql import SparkSession",
   "outputs": [],
   "execution_count": 1
  },
  {
   "metadata": {
    "ExecuteTime": {
     "end_time": "2024-08-17T22:50:42.037871Z",
     "start_time": "2024-08-17T22:50:36.908028Z"
    }
   },
   "cell_type": "code",
   "source": "spark = SparkSession.builder.getOrCreate()",
   "id": "fb5e851102c2d8ef",
   "outputs": [],
   "execution_count": 2
  },
  {
   "metadata": {
    "ExecuteTime": {
     "end_time": "2024-08-17T22:50:42.280675Z",
     "start_time": "2024-08-17T22:50:42.272250Z"
    }
   },
   "cell_type": "code",
   "source": "print(spark.version)",
   "id": "23d2fc946ff06231",
   "outputs": [
    {
     "name": "stdout",
     "output_type": "stream",
     "text": [
      "3.5.2\n"
     ]
    }
   ],
   "execution_count": 3
  },
  {
   "metadata": {
    "ExecuteTime": {
     "end_time": "2024-08-17T22:50:42.374142Z",
     "start_time": "2024-08-17T22:50:42.371058Z"
    }
   },
   "cell_type": "code",
   "source": "data = [(\"Java\", \"20000\"), (\"Python\", \"100000\"), (\"Scala\", \"3000\")]",
   "id": "ce1199a735f7a222",
   "outputs": [],
   "execution_count": 4
  },
  {
   "metadata": {
    "ExecuteTime": {
     "end_time": "2024-08-17T22:50:44.118647Z",
     "start_time": "2024-08-17T22:50:42.396207Z"
    }
   },
   "cell_type": "code",
   "source": "df = spark.createDataFrame(data)",
   "id": "4408d51364086ffc",
   "outputs": [],
   "execution_count": 5
  },
  {
   "metadata": {
    "ExecuteTime": {
     "end_time": "2024-08-17T22:50:44.135661Z",
     "start_time": "2024-08-17T22:50:44.128163Z"
    }
   },
   "cell_type": "code",
   "source": "df",
   "id": "46d7c1925072e791",
   "outputs": [
    {
     "data": {
      "text/plain": [
       "DataFrame[_1: string, _2: string]"
      ]
     },
     "execution_count": 6,
     "metadata": {},
     "output_type": "execute_result"
    }
   ],
   "execution_count": 6
  },
  {
   "metadata": {},
   "cell_type": "code",
   "outputs": [],
   "execution_count": null,
   "source": "",
   "id": "5698fccc110da582"
  }
 ],
 "metadata": {
  "kernelspec": {
   "display_name": "Python 3",
   "language": "python",
   "name": "python3"
  },
  "language_info": {
   "codemirror_mode": {
    "name": "ipython",
    "version": 2
   },
   "file_extension": ".py",
   "mimetype": "text/x-python",
   "name": "python",
   "nbconvert_exporter": "python",
   "pygments_lexer": "ipython2",
   "version": "2.7.6"
  }
 },
 "nbformat": 4,
 "nbformat_minor": 5
}
