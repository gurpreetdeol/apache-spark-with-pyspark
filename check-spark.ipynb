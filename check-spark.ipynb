{
 "cells": [
  {
   "cell_type": "code",
   "id": "initial_id",
   "metadata": {
    "collapsed": true,
    "ExecuteTime": {
     "end_time": "2024-08-15T21:46:38.679272Z",
     "start_time": "2024-08-15T21:46:38.658468Z"
    }
   },
   "source": "from pyspark.sql import SparkSession",
   "outputs": [],
   "execution_count": 13
  },
  {
   "metadata": {
    "ExecuteTime": {
     "end_time": "2024-08-15T21:46:38.946533Z",
     "start_time": "2024-08-15T21:46:38.939277Z"
    }
   },
   "cell_type": "code",
   "source": "spark = SparkSession.builder.getOrCreate()",
   "id": "fb5e851102c2d8ef",
   "outputs": [],
   "execution_count": 14
  },
  {
   "metadata": {
    "ExecuteTime": {
     "end_time": "2024-08-15T21:46:39.225190Z",
     "start_time": "2024-08-15T21:46:39.219807Z"
    }
   },
   "cell_type": "code",
   "source": "print(spark.version)",
   "id": "23d2fc946ff06231",
   "outputs": [
    {
     "name": "stdout",
     "output_type": "stream",
     "text": [
      "3.5.2\n"
     ]
    }
   ],
   "execution_count": 15
  },
  {
   "metadata": {
    "ExecuteTime": {
     "end_time": "2024-08-15T21:46:39.448337Z",
     "start_time": "2024-08-15T21:46:39.444739Z"
    }
   },
   "cell_type": "code",
   "source": "data = [(\"Java\", \"20000\"), (\"Python\", \"100000\"), (\"Scala\", \"3000\")]",
   "id": "ce1199a735f7a222",
   "outputs": [],
   "execution_count": 16
  },
  {
   "metadata": {
    "ExecuteTime": {
     "end_time": "2024-08-15T21:46:39.687363Z",
     "start_time": "2024-08-15T21:46:39.638285Z"
    }
   },
   "cell_type": "code",
   "source": "df = spark.createDataFrame(data)",
   "id": "4408d51364086ffc",
   "outputs": [],
   "execution_count": 17
  },
  {
   "metadata": {
    "ExecuteTime": {
     "end_time": "2024-08-15T21:46:40.751096Z",
     "start_time": "2024-08-15T21:46:39.882136Z"
    }
   },
   "cell_type": "code",
   "source": "df.show()",
   "id": "46d7c1925072e791",
   "outputs": [
    {
     "name": "stdout",
     "output_type": "stream",
     "text": [
      "+------+------+\n",
      "|    _1|    _2|\n",
      "+------+------+\n",
      "|  Java| 20000|\n",
      "|Python|100000|\n",
      "| Scala|  3000|\n",
      "+------+------+\n",
      "\n"
     ]
    }
   ],
   "execution_count": 18
  },
  {
   "metadata": {
    "ExecuteTime": {
     "end_time": "2024-08-15T21:46:40.794626Z",
     "start_time": "2024-08-15T21:46:40.792026Z"
    }
   },
   "cell_type": "code",
   "source": "",
   "id": "ca0bcd7a7abb44ce",
   "outputs": [],
   "execution_count": null
  },
  {
   "metadata": {},
   "cell_type": "code",
   "outputs": [],
   "execution_count": null,
   "source": "",
   "id": "5698fccc110da582"
  }
 ],
 "metadata": {
  "kernelspec": {
   "display_name": "Python 3",
   "language": "python",
   "name": "python3"
  },
  "language_info": {
   "codemirror_mode": {
    "name": "ipython",
    "version": 2
   },
   "file_extension": ".py",
   "mimetype": "text/x-python",
   "name": "python",
   "nbconvert_exporter": "python",
   "pygments_lexer": "ipython2",
   "version": "2.7.6"
  }
 },
 "nbformat": 4,
 "nbformat_minor": 5
}
