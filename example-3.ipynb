{
 "cells": [
  {
   "cell_type": "code",
   "id": "initial_id",
   "metadata": {
    "collapsed": true,
    "ExecuteTime": {
     "end_time": "2024-08-20T15:11:34.166281Z",
     "start_time": "2024-08-20T15:11:33.946856Z"
    }
   },
   "source": "from pyspark.sql import SparkSession",
   "outputs": [],
   "execution_count": 2
  },
  {
   "metadata": {
    "ExecuteTime": {
     "end_time": "2024-08-20T15:11:38.792611Z",
     "start_time": "2024-08-20T15:11:34.347304Z"
    }
   },
   "cell_type": "code",
   "source": [
    "spark = (SparkSession.builder\n",
    "      .master('local[1]')\n",
    "      .appName('SparkApp')\n",
    "      .getOrCreate())"
   ],
   "id": "3129eb2a8f698121",
   "outputs": [
    {
     "name": "stderr",
     "output_type": "stream",
     "text": [
      "Setting default log level to \"WARN\".\n",
      "To adjust logging level use sc.setLogLevel(newLevel). For SparkR, use setLogLevel(newLevel).\n",
      "24/08/20 08:11:37 WARN NativeCodeLoader: Unable to load native-hadoop library for your platform... using builtin-java classes where applicable\n"
     ]
    }
   ],
   "execution_count": 3
  },
  {
   "metadata": {
    "ExecuteTime": {
     "end_time": "2024-08-20T15:11:39.559930Z",
     "start_time": "2024-08-20T15:11:38.799089Z"
    }
   },
   "cell_type": "code",
   "source": "rdd2 = spark.sparkContext.textFile(\"data/test.txt\")",
   "id": "7e2743ab37058c18",
   "outputs": [],
   "execution_count": 4
  },
  {
   "metadata": {
    "ExecuteTime": {
     "end_time": "2024-08-20T15:11:40.794620Z",
     "start_time": "2024-08-20T15:11:39.596314Z"
    }
   },
   "cell_type": "code",
   "source": "rdd2.count()",
   "id": "5334961a0cb5abed",
   "outputs": [
    {
     "name": "stderr",
     "output_type": "stream",
     "text": [
      "                                                                                \r"
     ]
    },
    {
     "data": {
      "text/plain": [
       "8"
      ]
     },
     "execution_count": 5,
     "metadata": {},
     "output_type": "execute_result"
    }
   ],
   "execution_count": 5
  },
  {
   "metadata": {
    "ExecuteTime": {
     "end_time": "2024-08-20T15:11:40.999910Z",
     "start_time": "2024-08-20T15:11:40.867222Z"
    }
   },
   "cell_type": "code",
   "source": "rdd2.first()",
   "id": "c79bf3bfe9e386b4",
   "outputs": [
    {
     "data": {
      "text/plain": [
       "'536365,85123A,WHITE HANGING HEART T-LIGHT HOLDER,6,12/1/10 8:26,2.55,17850,United Kingdom'"
      ]
     },
     "execution_count": 6,
     "metadata": {},
     "output_type": "execute_result"
    }
   ],
   "execution_count": 6
  },
  {
   "metadata": {
    "ExecuteTime": {
     "end_time": "2024-08-20T15:11:41.213188Z",
     "start_time": "2024-08-20T15:11:41.077822Z"
    }
   },
   "cell_type": "code",
   "source": "rdd2.take(10)",
   "id": "48b9dca44eec7707",
   "outputs": [
    {
     "data": {
      "text/plain": [
       "['536365,85123A,WHITE HANGING HEART T-LIGHT HOLDER,6,12/1/10 8:26,2.55,17850,United Kingdom',\n",
       " '536365,71053,WHITE METAL LANTERN,6,12/1/10 8:26,3.39,17850,United Kingdom',\n",
       " '536365,84406B,CREAM CUPID HEARTS COAT HANGER,8,12/1/10 8:26,2.75,17850,United Kingdom',\n",
       " '536365,84029G,KNITTED UNION FLAG HOT WATER BOTTLE,6,12/1/10 8:26,3.39,17850,United Kingdom',\n",
       " '536365,84029E,RED WOOLLY HOTTIE WHITE HEART.,6,12/1/10 8:26,3.39,17850,United Kingdom',\n",
       " '536365,22752,SET 7 BABUSHKA NESTING BOXES,2,12/1/10 8:26,7.65,17850,United Kingdom',\n",
       " '536365,21730,GLASS STAR FROSTED T-LIGHT HOLDER,6,12/1/10 8:26,4.25,17850,United Kingdom',\n",
       " '536366,22633,HAND WARMER UNION JACK,6,12/1/10 8:28,1.85,17850,United Kingdom']"
      ]
     },
     "execution_count": 7,
     "metadata": {},
     "output_type": "execute_result"
    }
   ],
   "execution_count": 7
  },
  {
   "metadata": {
    "ExecuteTime": {
     "end_time": "2024-08-20T15:11:41.351561Z",
     "start_time": "2024-08-20T15:11:41.347800Z"
    }
   },
   "cell_type": "code",
   "source": [
    "# Create DataFrame\n",
    "data = [('James','','Smith','1991-04-01','M',3000),\n",
    "        ('Michael','Rose','','2000-05-19','M',4000),\n",
    "        ('Robert','','Williams','1978-09-05','M',4000),\n",
    "        ('Maria','Anne','Jones','1967-12-01','F',4000),\n",
    "        ('Jen','Mary','Brown','1980-02-17','F',-1)\n",
    "        ]"
   ],
   "id": "e29c381ae8884a4f",
   "outputs": [],
   "execution_count": 8
  },
  {
   "metadata": {
    "ExecuteTime": {
     "end_time": "2024-08-20T15:11:41.842641Z",
     "start_time": "2024-08-20T15:11:41.839754Z"
    }
   },
   "cell_type": "code",
   "source": "columns = [\"firstname\",\"middlename\",\"lastname\",\"dob\",\"gender\",\"salary\"]",
   "id": "469eac2b279c4999",
   "outputs": [],
   "execution_count": 9
  },
  {
   "metadata": {
    "ExecuteTime": {
     "end_time": "2024-08-20T15:11:44.917557Z",
     "start_time": "2024-08-20T15:11:42.761754Z"
    }
   },
   "cell_type": "code",
   "source": "df = spark.createDataFrame(data, columns)",
   "id": "52a143d2d9a911f0",
   "outputs": [],
   "execution_count": 10
  },
  {
   "metadata": {
    "ExecuteTime": {
     "end_time": "2024-08-20T15:11:46.586762Z",
     "start_time": "2024-08-20T15:11:44.942775Z"
    }
   },
   "cell_type": "code",
   "source": "df.show(5, 0)",
   "id": "7e209b75c04f9e51",
   "outputs": [
    {
     "name": "stdout",
     "output_type": "stream",
     "text": [
      "+---------+----------+--------+----------+------+------+\n",
      "|firstname|middlename|lastname|dob       |gender|salary|\n",
      "+---------+----------+--------+----------+------+------+\n",
      "|James    |          |Smith   |1991-04-01|M     |3000  |\n",
      "|Michael  |Rose      |        |2000-05-19|M     |4000  |\n",
      "|Robert   |          |Williams|1978-09-05|M     |4000  |\n",
      "|Maria    |Anne      |Jones   |1967-12-01|F     |4000  |\n",
      "|Jen      |Mary      |Brown   |1980-02-17|F     |-1    |\n",
      "+---------+----------+--------+----------+------+------+\n",
      "\n"
     ]
    }
   ],
   "execution_count": 11
  },
  {
   "metadata": {
    "ExecuteTime": {
     "end_time": "2024-08-20T15:11:46.619795Z",
     "start_time": "2024-08-20T15:11:46.615335Z"
    }
   },
   "cell_type": "code",
   "source": [
    "from pyspark.sql.types import StructType, StructField, StringType, IntegerType\n",
    "\n",
    "dataDF = [(('James','','Smith'),'1991-04-01','M',3000),\n",
    "          (('Michael','Rose',''),'2000-05-19','M',4000),\n",
    "          (('Robert','','Williams'),'1978-09-05','M',4000),\n",
    "          (('Maria','Anne','Jones'),'1967-12-01','F',4000),\n",
    "          (('Jen','Mary','Brown'),'1980-02-17','F',-1)\n",
    "          ]\n",
    "\n",
    "schema = StructType([\n",
    "    StructField('name', StructType([\n",
    "        StructField('firstname', StringType(), True),\n",
    "        StructField('middlename', StringType(), True),\n",
    "        StructField('lastname', StringType(), True),\n",
    "    ])),\n",
    "    StructField('dob', StringType(), True),\n",
    "    StructField('gender', StringType(), True),\n",
    "    StructField('salary', IntegerType(), True)\n",
    "])"
   ],
   "id": "58e451cf7f190528",
   "outputs": [],
   "execution_count": 12
  },
  {
   "metadata": {
    "ExecuteTime": {
     "end_time": "2024-08-20T15:11:46.718324Z",
     "start_time": "2024-08-20T15:11:46.714890Z"
    }
   },
   "cell_type": "code",
   "source": "schema",
   "id": "fd55f4052626a002",
   "outputs": [
    {
     "data": {
      "text/plain": [
       "StructType([StructField('name', StructType([StructField('firstname', StringType(), True), StructField('middlename', StringType(), True), StructField('lastname', StringType(), True)]), True), StructField('dob', StringType(), True), StructField('gender', StringType(), True), StructField('salary', IntegerType(), True)])"
      ]
     },
     "execution_count": 13,
     "metadata": {},
     "output_type": "execute_result"
    }
   ],
   "execution_count": 13
  },
  {
   "metadata": {
    "ExecuteTime": {
     "end_time": "2024-08-20T15:11:46.918816Z",
     "start_time": "2024-08-20T15:11:46.858590Z"
    }
   },
   "cell_type": "code",
   "source": "df = spark.createDataFrame(data=dataDF, schema=schema)",
   "id": "51de76fec792b74",
   "outputs": [],
   "execution_count": 14
  },
  {
   "metadata": {
    "ExecuteTime": {
     "end_time": "2024-08-20T15:11:46.935414Z",
     "start_time": "2024-08-20T15:11:46.930623Z"
    }
   },
   "cell_type": "code",
   "source": "df.printSchema()",
   "id": "1e12286e2586246a",
   "outputs": [
    {
     "name": "stdout",
     "output_type": "stream",
     "text": [
      "root\n",
      " |-- name: struct (nullable = true)\n",
      " |    |-- firstname: string (nullable = true)\n",
      " |    |-- middlename: string (nullable = true)\n",
      " |    |-- lastname: string (nullable = true)\n",
      " |-- dob: string (nullable = true)\n",
      " |-- gender: string (nullable = true)\n",
      " |-- salary: integer (nullable = true)\n",
      "\n"
     ]
    }
   ],
   "execution_count": 15
  },
  {
   "metadata": {
    "ExecuteTime": {
     "end_time": "2024-08-20T15:11:47.058170Z",
     "start_time": "2024-08-20T15:11:47.046628Z"
    }
   },
   "cell_type": "code",
   "source": "df = df.withColumnRenamed(\"dob\", \"birthdate\")",
   "id": "6f2f86512604e837",
   "outputs": [],
   "execution_count": 16
  },
  {
   "metadata": {
    "ExecuteTime": {
     "end_time": "2024-08-20T15:11:47.971048Z",
     "start_time": "2024-08-20T15:11:47.790768Z"
    }
   },
   "cell_type": "code",
   "source": "df.show()",
   "id": "12f88fea561844ff",
   "outputs": [
    {
     "name": "stdout",
     "output_type": "stream",
     "text": [
      "+--------------------+----------+------+------+\n",
      "|                name| birthdate|gender|salary|\n",
      "+--------------------+----------+------+------+\n",
      "|    {James, , Smith}|1991-04-01|     M|  3000|\n",
      "|   {Michael, Rose, }|2000-05-19|     M|  4000|\n",
      "|{Robert, , Williams}|1978-09-05|     M|  4000|\n",
      "|{Maria, Anne, Jones}|1967-12-01|     F|  4000|\n",
      "|  {Jen, Mary, Brown}|1980-02-17|     F|    -1|\n",
      "+--------------------+----------+------+------+\n",
      "\n"
     ]
    }
   ],
   "execution_count": 17
  },
  {
   "metadata": {
    "ExecuteTime": {
     "end_time": "2024-08-20T15:11:49.503410Z",
     "start_time": "2024-08-20T15:11:49.487977Z"
    }
   },
   "cell_type": "code",
   "source": [
    "df = df.withColumnRenamed(\"birthdate\",\"DateOfBirth\").withColumnRenamed(\"salary\",\"salary_usd\")\n",
    "df.printSchema()"
   ],
   "id": "b762b8ccc79c7c73",
   "outputs": [
    {
     "name": "stdout",
     "output_type": "stream",
     "text": [
      "root\n",
      " |-- name: struct (nullable = true)\n",
      " |    |-- firstname: string (nullable = true)\n",
      " |    |-- middlename: string (nullable = true)\n",
      " |    |-- lastname: string (nullable = true)\n",
      " |-- DateOfBirth: string (nullable = true)\n",
      " |-- gender: string (nullable = true)\n",
      " |-- salary_usd: integer (nullable = true)\n",
      "\n"
     ]
    }
   ],
   "execution_count": 18
  },
  {
   "metadata": {
    "ExecuteTime": {
     "end_time": "2024-08-20T15:11:49.894972Z",
     "start_time": "2024-08-20T15:11:49.891826Z"
    }
   },
   "cell_type": "code",
   "source": [
    "schema2 = StructType([\n",
    "    StructField(\"fname\", StringType()),\n",
    "    StructField(\"middlename\", StringType()),\n",
    "    StructField(\"lname\", StringType()),\n",
    "])"
   ],
   "id": "b7bc7d17d9991bed",
   "outputs": [],
   "execution_count": 19
  },
  {
   "metadata": {
    "ExecuteTime": {
     "end_time": "2024-08-20T15:11:50.501202Z",
     "start_time": "2024-08-20T15:11:50.498758Z"
    }
   },
   "cell_type": "code",
   "source": "from pyspark.sql.functions import col",
   "id": "ad2cab9c0e4e13ba",
   "outputs": [],
   "execution_count": 20
  },
  {
   "metadata": {
    "ExecuteTime": {
     "end_time": "2024-08-20T15:11:51.174326Z",
     "start_time": "2024-08-20T15:11:51.118039Z"
    }
   },
   "cell_type": "code",
   "source": [
    "df.select(col(\"name\").cast(schema2),\n",
    "          col(\"DateOfBirth\"), col(\"gender\"), col(\"salary_usd\")).printSchema()"
   ],
   "id": "438657b91b0bd0ed",
   "outputs": [
    {
     "name": "stdout",
     "output_type": "stream",
     "text": [
      "root\n",
      " |-- name: struct (nullable = true)\n",
      " |    |-- fname: string (nullable = true)\n",
      " |    |-- middlename: string (nullable = true)\n",
      " |    |-- lname: string (nullable = true)\n",
      " |-- DateOfBirth: string (nullable = true)\n",
      " |-- gender: string (nullable = true)\n",
      " |-- salary_usd: integer (nullable = true)\n",
      "\n"
     ]
    }
   ],
   "execution_count": 21
  },
  {
   "metadata": {
    "ExecuteTime": {
     "end_time": "2024-08-20T15:11:53.280256Z",
     "start_time": "2024-08-20T15:11:53.275665Z"
    }
   },
   "cell_type": "code",
   "source": "df.columns",
   "id": "3ff19713d81f9361",
   "outputs": [
    {
     "data": {
      "text/plain": [
       "['name', 'DateOfBirth', 'gender', 'salary_usd']"
      ]
     },
     "execution_count": 22,
     "metadata": {},
     "output_type": "execute_result"
    }
   ],
   "execution_count": 22
  },
  {
   "metadata": {
    "ExecuteTime": {
     "end_time": "2024-08-20T15:12:42.968491Z",
     "start_time": "2024-08-20T15:12:42.948841Z"
    }
   },
   "cell_type": "code",
   "source": [
    "from pyspark.sql.functions import *\n",
    "\n",
    "df.select(col(\"name.firstname\").alias(\"fname\"),\n",
    "          col(\"name.middlename\").alias(\"mname\"),\n",
    "          col(\"name.lastname\").alias(\"lname\"),\n",
    "          col(\"DateOfBirth\"),col(\"gender\"),col(\"salary_usd\")).printSchema()"
   ],
   "id": "160f9657e04d01fb",
   "outputs": [
    {
     "name": "stdout",
     "output_type": "stream",
     "text": [
      "root\n",
      " |-- fname: string (nullable = true)\n",
      " |-- mname: string (nullable = true)\n",
      " |-- lname: string (nullable = true)\n",
      " |-- DateOfBirth: string (nullable = true)\n",
      " |-- gender: string (nullable = true)\n",
      " |-- salary_usd: integer (nullable = true)\n",
      "\n"
     ]
    }
   ],
   "execution_count": 24
  },
  {
   "metadata": {
    "ExecuteTime": {
     "end_time": "2024-08-20T15:19:29.935625Z",
     "start_time": "2024-08-20T15:19:29.902922Z"
    }
   },
   "cell_type": "code",
   "source": [
    "df4 = df.withColumn(\"fname\", col(\"name.firstname\")).withColumn(\"mname\", col(\"name.middlename\")).withColumn(\"lname\", col(\"name.lastname\")).drop(\"name\")\n",
    "df4.printSchema()"
   ],
   "id": "278045eeedc6b728",
   "outputs": [
    {
     "name": "stdout",
     "output_type": "stream",
     "text": [
      "root\n",
      " |-- DateOfBirth: string (nullable = true)\n",
      " |-- gender: string (nullable = true)\n",
      " |-- salary_usd: integer (nullable = true)\n",
      " |-- fname: string (nullable = true)\n",
      " |-- mname: string (nullable = true)\n",
      " |-- lname: string (nullable = true)\n",
      "\n"
     ]
    }
   ],
   "execution_count": 33
  },
  {
   "metadata": {
    "ExecuteTime": {
     "end_time": "2024-08-20T15:19:30.716756Z",
     "start_time": "2024-08-20T15:19:30.713596Z"
    }
   },
   "cell_type": "code",
   "source": "df.printSchema()",
   "id": "f41ccde333ecf1a5",
   "outputs": [
    {
     "name": "stdout",
     "output_type": "stream",
     "text": [
      "root\n",
      " |-- name: struct (nullable = true)\n",
      " |    |-- firstname: string (nullable = true)\n",
      " |    |-- middlename: string (nullable = true)\n",
      " |    |-- lastname: string (nullable = true)\n",
      " |-- DateOfBirth: string (nullable = true)\n",
      " |-- gender: string (nullable = true)\n",
      " |-- salary_usd: integer (nullable = true)\n",
      "\n"
     ]
    }
   ],
   "execution_count": 34
  },
  {
   "metadata": {
    "ExecuteTime": {
     "end_time": "2024-08-20T15:19:32.664789Z",
     "start_time": "2024-08-20T15:19:32.508265Z"
    }
   },
   "cell_type": "code",
   "source": "df4.show()",
   "id": "b7487e26e4c9c4a",
   "outputs": [
    {
     "name": "stdout",
     "output_type": "stream",
     "text": [
      "+-----------+------+----------+-------+-----+--------+\n",
      "|DateOfBirth|gender|salary_usd|  fname|mname|   lname|\n",
      "+-----------+------+----------+-------+-----+--------+\n",
      "| 1991-04-01|     M|      3000|  James|     |   Smith|\n",
      "| 2000-05-19|     M|      4000|Michael| Rose|        |\n",
      "| 1978-09-05|     M|      4000| Robert|     |Williams|\n",
      "| 1967-12-01|     F|      4000|  Maria| Anne|   Jones|\n",
      "| 1980-02-17|     F|        -1|    Jen| Mary|   Brown|\n",
      "+-----------+------+----------+-------+-----+--------+\n",
      "\n"
     ]
    }
   ],
   "execution_count": 35
  },
  {
   "metadata": {
    "ExecuteTime": {
     "end_time": "2024-08-20T15:19:34.617166Z",
     "start_time": "2024-08-20T15:19:34.607576Z"
    }
   },
   "cell_type": "code",
   "source": [
    "new_columns = [\"dob\",\"sex\",\"salary_amt\",\"first_name\",\"middle_name\",\"last_name\"]\n",
    "df4 = df4.toDF(*new_columns)"
   ],
   "id": "5c23b113788f09a6",
   "outputs": [],
   "execution_count": 36
  },
  {
   "metadata": {
    "ExecuteTime": {
     "end_time": "2024-08-20T15:19:35.463596Z",
     "start_time": "2024-08-20T15:19:35.460250Z"
    }
   },
   "cell_type": "code",
   "source": "df4.printSchema()",
   "id": "e2f98cff36bc9839",
   "outputs": [
    {
     "name": "stdout",
     "output_type": "stream",
     "text": [
      "root\n",
      " |-- dob: string (nullable = true)\n",
      " |-- sex: string (nullable = true)\n",
      " |-- salary_amt: integer (nullable = true)\n",
      " |-- first_name: string (nullable = true)\n",
      " |-- middle_name: string (nullable = true)\n",
      " |-- last_name: string (nullable = true)\n",
      "\n"
     ]
    }
   ],
   "execution_count": 37
  },
  {
   "metadata": {},
   "cell_type": "code",
   "outputs": [],
   "execution_count": null,
   "source": "",
   "id": "9e533d2b5fe55d4d"
  }
 ],
 "metadata": {
  "kernelspec": {
   "display_name": "Python 3",
   "language": "python",
   "name": "python3"
  },
  "language_info": {
   "codemirror_mode": {
    "name": "ipython",
    "version": 2
   },
   "file_extension": ".py",
   "mimetype": "text/x-python",
   "name": "python",
   "nbconvert_exporter": "python",
   "pygments_lexer": "ipython2",
   "version": "2.7.6"
  }
 },
 "nbformat": 4,
 "nbformat_minor": 5
}
