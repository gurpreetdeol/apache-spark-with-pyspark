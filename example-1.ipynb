{
 "cells": [
  {
   "cell_type": "code",
   "id": "initial_id",
   "metadata": {
    "ExecuteTime": {
     "end_time": "2024-08-17T22:49:03.312803Z",
     "start_time": "2024-08-17T22:49:03.308189Z"
    }
   },
   "source": [
    "from pyspark.sql import SparkSession"
   ],
   "outputs": [],
   "execution_count": 2
  },
  {
   "metadata": {},
   "cell_type": "markdown",
   "source": "#### Step 1: Creating a SparkSession",
   "id": "e9181d1afcdb5e"
  },
  {
   "cell_type": "code",
   "id": "54a2da9b14fef2fe",
   "metadata": {
    "ExecuteTime": {
     "end_time": "2024-08-17T22:49:14.495529Z",
     "start_time": "2024-08-17T22:49:07.159053Z"
    }
   },
   "source": "spark = SparkSession.builder.appName(\"PysparkApp\").master(\"local[*]\").config(\"spark.memory.offHeap.enabled\",\"true\").config(\"spark.memory.offHeap.size\",\"10g\").getOrCreate()",
   "outputs": [],
   "execution_count": 3
  },
  {
   "metadata": {},
   "cell_type": "markdown",
   "source": "#### Step 2: Creating the DataFrame",
   "id": "df02b982a5e5541d"
  },
  {
   "cell_type": "code",
   "id": "aba5545e38de28ef",
   "metadata": {
    "ExecuteTime": {
     "end_time": "2024-08-17T22:49:21.971741Z",
     "start_time": "2024-08-17T22:49:16.464688Z"
    }
   },
   "source": "df = spark.read.csv('data/datacamp_ecommerce.csv',header=True,escape=\"\\\"\")",
   "outputs": [],
   "execution_count": 4
  },
  {
   "cell_type": "code",
   "id": "91b8cc62-b174-46ef-b33f-95633393630c",
   "metadata": {
    "ExecuteTime": {
     "end_time": "2024-08-17T22:49:26.376036Z",
     "start_time": "2024-08-17T22:49:25.732165Z"
    }
   },
   "source": [
    "df.show(5,0)"
   ],
   "outputs": [
    {
     "name": "stdout",
     "output_type": "stream",
     "text": [
      "+---------+---------+-----------------------------------+--------+------------+---------+----------+--------------+\n",
      "|InvoiceNo|StockCode|Description                        |Quantity|InvoiceDate |UnitPrice|CustomerID|Country       |\n",
      "+---------+---------+-----------------------------------+--------+------------+---------+----------+--------------+\n",
      "|536365   |85123A   |WHITE HANGING HEART T-LIGHT HOLDER |6       |12/1/10 8:26|2.55     |17850     |United Kingdom|\n",
      "|536365   |71053    |WHITE METAL LANTERN                |6       |12/1/10 8:26|3.39     |17850     |United Kingdom|\n",
      "|536365   |84406B   |CREAM CUPID HEARTS COAT HANGER     |8       |12/1/10 8:26|2.75     |17850     |United Kingdom|\n",
      "|536365   |84029G   |KNITTED UNION FLAG HOT WATER BOTTLE|6       |12/1/10 8:26|3.39     |17850     |United Kingdom|\n",
      "|536365   |84029E   |RED WOOLLY HOTTIE WHITE HEART.     |6       |12/1/10 8:26|3.39     |17850     |United Kingdom|\n",
      "+---------+---------+-----------------------------------+--------+------------+---------+----------+--------------+\n",
      "only showing top 5 rows\n",
      "\n"
     ]
    }
   ],
   "execution_count": 5
  },
  {
   "cell_type": "code",
   "id": "5e3f5a7c-d121-497f-aa43-227f7bf07994",
   "metadata": {
    "ExecuteTime": {
     "end_time": "2024-08-17T22:49:28.643056Z",
     "start_time": "2024-08-17T22:49:27.790324Z"
    }
   },
   "source": "df.count()",
   "outputs": [
    {
     "data": {
      "text/plain": [
       "12500"
      ]
     },
     "execution_count": 6,
     "metadata": {},
     "output_type": "execute_result"
    }
   ],
   "execution_count": 6
  },
  {
   "metadata": {
    "ExecuteTime": {
     "end_time": "2024-08-17T22:49:29.676768Z",
     "start_time": "2024-08-17T22:49:29.671465Z"
    }
   },
   "cell_type": "code",
   "source": "df.columns",
   "id": "da3088dcc160e46c",
   "outputs": [
    {
     "data": {
      "text/plain": [
       "['InvoiceNo',\n",
       " 'StockCode',\n",
       " 'Description',\n",
       " 'Quantity',\n",
       " 'InvoiceDate',\n",
       " 'UnitPrice',\n",
       " 'CustomerID',\n",
       " 'Country']"
      ]
     },
     "execution_count": 7,
     "metadata": {},
     "output_type": "execute_result"
    }
   ],
   "execution_count": 7
  },
  {
   "metadata": {},
   "cell_type": "markdown",
   "source": [
    "1. InvoiceNo: The unique identifier of each customer invoice.\n",
    "2. StockCode: The unique identifier of each item in stock.\n",
    "3. Description: The item purchased by the customer.\n",
    "4. Quantity: The number of each item purchased by a customer in a single invoice.\n",
    "5. InvoiceDate: The purchase date.\n",
    "6. UnitPrice: Price of one unit of each item.\n",
    "7. CustomerID: Unique identifier assigned to each user.\n",
    "8. Country: The country from where the purchase was made"
   ],
   "id": "ff45c2b5d70a24d2"
  },
  {
   "metadata": {},
   "cell_type": "markdown",
   "source": "#### Step 3: Exploratory Data Analysis",
   "id": "adf2365eccb63d93"
  },
  {
   "metadata": {
    "ExecuteTime": {
     "end_time": "2024-08-17T22:49:32.672636Z",
     "start_time": "2024-08-17T22:49:32.460316Z"
    }
   },
   "cell_type": "code",
   "source": "df.count()",
   "id": "ebccdaad040f1425",
   "outputs": [
    {
     "data": {
      "text/plain": [
       "12500"
      ]
     },
     "execution_count": 8,
     "metadata": {},
     "output_type": "execute_result"
    }
   ],
   "execution_count": 8
  },
  {
   "metadata": {
    "ExecuteTime": {
     "end_time": "2024-08-17T22:49:34.896468Z",
     "start_time": "2024-08-17T22:49:33.552975Z"
    }
   },
   "cell_type": "code",
   "source": "df.select(\"CustomerID\").distinct().count()",
   "id": "f34fd737799d29a2",
   "outputs": [
    {
     "data": {
      "text/plain": [
       "373"
      ]
     },
     "execution_count": 9,
     "metadata": {},
     "output_type": "execute_result"
    }
   ],
   "execution_count": 9
  },
  {
   "metadata": {
    "ExecuteTime": {
     "end_time": "2024-08-17T22:49:36.184038Z",
     "start_time": "2024-08-17T22:49:36.180172Z"
    }
   },
   "cell_type": "code",
   "source": [
    "from pyspark.sql.functions import *\n",
    "from pyspark.sql.types import *"
   ],
   "id": "5b02f37be10e5e0f",
   "outputs": [],
   "execution_count": 10
  },
  {
   "metadata": {
    "ExecuteTime": {
     "end_time": "2024-08-17T22:49:38.394013Z",
     "start_time": "2024-08-17T22:49:36.877849Z"
    }
   },
   "cell_type": "code",
   "source": "df.groupBy(\"Country\").agg(countDistinct('CustomerID').alias('country_count')).show()",
   "id": "32b629534286661c",
   "outputs": [
    {
     "name": "stdout",
     "output_type": "stream",
     "text": [
      "+--------------+-------------+\n",
      "|       Country|country_count|\n",
      "+--------------+-------------+\n",
      "|       Germany|           11|\n",
      "|        France|            4|\n",
      "|       Belgium|            1|\n",
      "|         Italy|            2|\n",
      "|          EIRE|            3|\n",
      "|     Lithuania|            1|\n",
      "|        Norway|            1|\n",
      "|         Spain|            1|\n",
      "|   Switzerland|            1|\n",
      "|         Japan|            1|\n",
      "|        Poland|            1|\n",
      "|      Portugal|            2|\n",
      "|     Australia|            1|\n",
      "|United Kingdom|          343|\n",
      "|   Netherlands|            1|\n",
      "+--------------+-------------+\n",
      "\n"
     ]
    }
   ],
   "execution_count": 11
  },
  {
   "metadata": {
    "ExecuteTime": {
     "end_time": "2024-08-16T00:26:21.515538Z",
     "start_time": "2024-08-16T00:26:21.212707Z"
    }
   },
   "cell_type": "code",
   "source": "df.groupBy('Country').agg(countDistinct('CustomerID').alias('country_count')).orderBy(desc('country_count')).show()",
   "id": "cf6b4318eee47543",
   "outputs": [
    {
     "name": "stdout",
     "output_type": "stream",
     "text": [
      "+--------------+-------------+\n",
      "|       Country|country_count|\n",
      "+--------------+-------------+\n",
      "|United Kingdom|          343|\n",
      "|       Germany|           11|\n",
      "|        France|            4|\n",
      "|          EIRE|            3|\n",
      "|         Italy|            2|\n",
      "|      Portugal|            2|\n",
      "|       Belgium|            1|\n",
      "|     Lithuania|            1|\n",
      "|        Norway|            1|\n",
      "|         Spain|            1|\n",
      "|   Switzerland|            1|\n",
      "|         Japan|            1|\n",
      "|        Poland|            1|\n",
      "|     Australia|            1|\n",
      "|   Netherlands|            1|\n",
      "+--------------+-------------+\n",
      "\n"
     ]
    }
   ],
   "execution_count": 19
  },
  {
   "metadata": {
    "ExecuteTime": {
     "end_time": "2024-08-16T00:30:39.066350Z",
     "start_time": "2024-08-16T00:30:38.832541Z"
    }
   },
   "cell_type": "code",
   "source": [
    "spark.sql(\"set spark.sql.legacy.timeParserPolicy=LEGACY\")\n",
    "df = df.withColumn('date', to_timestamp(\"InvoiceDate\", 'yy/MM/dd HH:mm'))\n",
    "df.select(max(\"date\")).show()"
   ],
   "id": "875365aa8c25c3f",
   "outputs": [
    {
     "name": "stdout",
     "output_type": "stream",
     "text": [
      "+-------------------+\n",
      "|          max(date)|\n",
      "+-------------------+\n",
      "|2012-06-10 13:13:00|\n",
      "+-------------------+\n",
      "\n"
     ]
    }
   ],
   "execution_count": 20
  },
  {
   "metadata": {
    "ExecuteTime": {
     "end_time": "2024-08-16T00:31:10.194153Z",
     "start_time": "2024-08-16T00:31:10.084088Z"
    }
   },
   "cell_type": "code",
   "source": "df.select(min(\"date\")).show()",
   "id": "3cb0b3021a297f91",
   "outputs": [
    {
     "name": "stdout",
     "output_type": "stream",
     "text": [
      "+-------------------+\n",
      "|          min(date)|\n",
      "+-------------------+\n",
      "|2012-01-10 08:26:00|\n",
      "+-------------------+\n",
      "\n"
     ]
    }
   ],
   "execution_count": 21
  },
  {
   "metadata": {},
   "cell_type": "markdown",
   "source": "#### Step 4: Data Pre-processing",
   "id": "9119994b84258eb5"
  },
  {
   "metadata": {
    "ExecuteTime": {
     "end_time": "2024-08-16T00:32:43.381203Z",
     "start_time": "2024-08-16T00:32:43.310246Z"
    }
   },
   "cell_type": "code",
   "source": "df.show(5, 0)",
   "id": "d647cc7fe1f8dd0a",
   "outputs": [
    {
     "name": "stdout",
     "output_type": "stream",
     "text": [
      "+---------+---------+-----------------------------------+--------+------------+---------+----------+--------------+-------------------+\n",
      "|InvoiceNo|StockCode|Description                        |Quantity|InvoiceDate |UnitPrice|CustomerID|Country       |date               |\n",
      "+---------+---------+-----------------------------------+--------+------------+---------+----------+--------------+-------------------+\n",
      "|536365   |85123A   |WHITE HANGING HEART T-LIGHT HOLDER |6       |12/1/10 8:26|2.55     |17850     |United Kingdom|2012-01-10 08:26:00|\n",
      "|536365   |71053    |WHITE METAL LANTERN                |6       |12/1/10 8:26|3.39     |17850     |United Kingdom|2012-01-10 08:26:00|\n",
      "|536365   |84406B   |CREAM CUPID HEARTS COAT HANGER     |8       |12/1/10 8:26|2.75     |17850     |United Kingdom|2012-01-10 08:26:00|\n",
      "|536365   |84029G   |KNITTED UNION FLAG HOT WATER BOTTLE|6       |12/1/10 8:26|3.39     |17850     |United Kingdom|2012-01-10 08:26:00|\n",
      "|536365   |84029E   |RED WOOLLY HOTTIE WHITE HEART.     |6       |12/1/10 8:26|3.39     |17850     |United Kingdom|2012-01-10 08:26:00|\n",
      "+---------+---------+-----------------------------------+--------+------------+---------+----------+--------------+-------------------+\n",
      "only showing top 5 rows\n",
      "\n"
     ]
    }
   ],
   "execution_count": 22
  },
  {
   "metadata": {},
   "cell_type": "markdown",
   "source": "### Recency",
   "id": "b203dc6bdc06ceaa"
  },
  {
   "metadata": {},
   "cell_type": "markdown",
   "source": "##### i) Assign a recency score to each customer",
   "id": "fde837893ab07fa9"
  },
  {
   "metadata": {
    "ExecuteTime": {
     "end_time": "2024-08-16T00:36:14.336571Z",
     "start_time": "2024-08-16T00:36:14.301437Z"
    }
   },
   "cell_type": "code",
   "source": [
    "df = df.withColumn(\"from_date\", lit(\"12/1/10 08:26\"))\n",
    "df = df.withColumn('from_date', to_timestamp(\"from_date\", 'yyyy/MM/dd HH:mm'))\n",
    "\n",
    "df2 = df.withColumn('from_date', to_timestamp(col(\"from_date\"))).withColumn('recency', col('date').cast(\"long\") - col('from_date').cast(\"long\"))"
   ],
   "id": "2846534eee5f56c5",
   "outputs": [],
   "execution_count": 23
  },
  {
   "metadata": {
    "ExecuteTime": {
     "end_time": "2024-08-16T00:36:22.669305Z",
     "start_time": "2024-08-16T00:36:22.662013Z"
    }
   },
   "cell_type": "code",
   "source": "df2",
   "id": "cd319f6bea08cac4",
   "outputs": [
    {
     "data": {
      "text/plain": [
       "DataFrame[InvoiceNo: string, StockCode: string, Description: string, Quantity: string, InvoiceDate: string, UnitPrice: string, CustomerID: string, Country: string, date: timestamp, from_date: timestamp, recency: bigint]"
      ]
     },
     "execution_count": 24,
     "metadata": {},
     "output_type": "execute_result"
    }
   ],
   "execution_count": 24
  },
  {
   "metadata": {},
   "cell_type": "markdown",
   "source": "##### ii) Select the most recent purchase",
   "id": "a2037db62c28032f"
  },
  {
   "metadata": {
    "ExecuteTime": {
     "end_time": "2024-08-16T00:38:05.945071Z",
     "start_time": "2024-08-16T00:38:05.910938Z"
    }
   },
   "cell_type": "code",
   "source": "df2 = df2.join(df2.groupBy('CustomerID').agg(max('recency').alias('recency')), on='recency',how='leftsemi')",
   "id": "2dddc801cfad607a",
   "outputs": [],
   "execution_count": 25
  },
  {
   "metadata": {
    "ExecuteTime": {
     "end_time": "2024-08-16T00:38:31.197723Z",
     "start_time": "2024-08-16T00:38:30.750096Z"
    }
   },
   "cell_type": "code",
   "source": "df2.show(5,0)",
   "id": "f9750235ea7b482d",
   "outputs": [
    {
     "name": "stdout",
     "output_type": "stream",
     "text": [
      "+-----------+---------+---------+-------------------------------+--------+------------+---------+----------+--------------+-------------------+-------------------+\n",
      "|recency    |InvoiceNo|StockCode|Description                    |Quantity|InvoiceDate |UnitPrice|CustomerID|Country       |date               |from_date          |\n",
      "+-----------+---------+---------+-------------------------------+--------+------------+---------+----------+--------------+-------------------+-------------------+\n",
      "|63113903792|536369   |21756    |BATH BUILDING BLOCK WORD       |3       |12/1/10 8:35|5.95     |13047     |United Kingdom|2012-01-10 08:35:00|0012-01-10 08:26:00|\n",
      "|63113904392|536370   |22728    |ALARM CLOCK BAKELIKE PINK      |24      |12/1/10 8:45|3.75     |12583     |France        |2012-01-10 08:45:00|0012-01-10 08:26:00|\n",
      "|63113904392|536370   |22727    |ALARM CLOCK BAKELIKE RED       |24      |12/1/10 8:45|3.75     |12583     |France        |2012-01-10 08:45:00|0012-01-10 08:26:00|\n",
      "|63113904392|536370   |22726    |ALARM CLOCK BAKELIKE GREEN     |12      |12/1/10 8:45|3.75     |12583     |France        |2012-01-10 08:45:00|0012-01-10 08:26:00|\n",
      "|63113904392|536370   |21724    |PANDA AND BUNNIES STICKER SHEET|12      |12/1/10 8:45|0.85     |12583     |France        |2012-01-10 08:45:00|0012-01-10 08:26:00|\n",
      "+-----------+---------+---------+-------------------------------+--------+------------+---------+----------+--------------+-------------------+-------------------+\n",
      "only showing top 5 rows\n",
      "\n"
     ]
    }
   ],
   "execution_count": 26
  },
  {
   "metadata": {
    "ExecuteTime": {
     "end_time": "2024-08-16T00:38:44.531717Z",
     "start_time": "2024-08-16T00:38:44.525416Z"
    }
   },
   "cell_type": "code",
   "source": "df2.printSchema()",
   "id": "84d2de141499195a",
   "outputs": [
    {
     "name": "stdout",
     "output_type": "stream",
     "text": [
      "root\n",
      " |-- recency: long (nullable = true)\n",
      " |-- InvoiceNo: string (nullable = true)\n",
      " |-- StockCode: string (nullable = true)\n",
      " |-- Description: string (nullable = true)\n",
      " |-- Quantity: string (nullable = true)\n",
      " |-- InvoiceDate: string (nullable = true)\n",
      " |-- UnitPrice: string (nullable = true)\n",
      " |-- CustomerID: string (nullable = true)\n",
      " |-- Country: string (nullable = true)\n",
      " |-- date: timestamp (nullable = true)\n",
      " |-- from_date: timestamp (nullable = true)\n",
      "\n"
     ]
    }
   ],
   "execution_count": 27
  },
  {
   "metadata": {},
   "cell_type": "markdown",
   "source": "### Frequency",
   "id": "8129b33c1321417b"
  },
  {
   "metadata": {
    "ExecuteTime": {
     "end_time": "2024-08-16T00:40:47.188918Z",
     "start_time": "2024-08-16T00:40:47.177760Z"
    }
   },
   "cell_type": "code",
   "source": "df_freq = df2.groupBy('CustomerID').agg(count('InvoiceDate').alias('frequency'))",
   "id": "5266d0502c548b20",
   "outputs": [],
   "execution_count": 28
  },
  {
   "metadata": {
    "ExecuteTime": {
     "end_time": "2024-08-16T00:40:52.306988Z",
     "start_time": "2024-08-16T00:40:51.785137Z"
    }
   },
   "cell_type": "code",
   "source": "df_freq.show(5,0)",
   "id": "ad3859e5a5db8af4",
   "outputs": [
    {
     "name": "stdout",
     "output_type": "stream",
     "text": [
      "+----------+---------+\n",
      "|CustomerID|frequency|\n",
      "+----------+---------+\n",
      "|16250     |14       |\n",
      "|15574     |121      |\n",
      "|15555     |32       |\n",
      "|17757     |23       |\n",
      "|13174     |169      |\n",
      "+----------+---------+\n",
      "only showing top 5 rows\n",
      "\n"
     ]
    }
   ],
   "execution_count": 29
  },
  {
   "metadata": {
    "ExecuteTime": {
     "end_time": "2024-08-16T00:41:22.008143Z",
     "start_time": "2024-08-16T00:41:21.994236Z"
    }
   },
   "cell_type": "code",
   "source": "df3 = df2.join(df_freq, on='CustomerID', how='inner')",
   "id": "5ea9172452253062",
   "outputs": [],
   "execution_count": 30
  },
  {
   "metadata": {
    "ExecuteTime": {
     "end_time": "2024-08-16T00:41:27.168778Z",
     "start_time": "2024-08-16T00:41:27.165662Z"
    }
   },
   "cell_type": "code",
   "source": "df3.printSchema()",
   "id": "b2dd4170f738a98c",
   "outputs": [
    {
     "name": "stdout",
     "output_type": "stream",
     "text": [
      "root\n",
      " |-- CustomerID: string (nullable = true)\n",
      " |-- recency: long (nullable = true)\n",
      " |-- InvoiceNo: string (nullable = true)\n",
      " |-- StockCode: string (nullable = true)\n",
      " |-- Description: string (nullable = true)\n",
      " |-- Quantity: string (nullable = true)\n",
      " |-- InvoiceDate: string (nullable = true)\n",
      " |-- UnitPrice: string (nullable = true)\n",
      " |-- Country: string (nullable = true)\n",
      " |-- date: timestamp (nullable = true)\n",
      " |-- from_date: timestamp (nullable = true)\n",
      " |-- frequency: long (nullable = false)\n",
      "\n"
     ]
    }
   ],
   "execution_count": 31
  },
  {
   "metadata": {},
   "cell_type": "markdown",
   "source": "#### Monetary Value",
   "id": "73a53ff31c2fa3d"
  },
  {
   "metadata": {},
   "cell_type": "markdown",
   "source": "##### i) Find the total amount spent in each purchase:",
   "id": "85f7b1a3d2044d77"
  },
  {
   "metadata": {
    "ExecuteTime": {
     "end_time": "2024-08-16T00:44:46.400904Z",
     "start_time": "2024-08-16T00:44:46.324292Z"
    }
   },
   "cell_type": "code",
   "source": "df[[\"CustomerID\",\"Quantity\",\"UnitPrice\"]].show()",
   "id": "7e0e127383cbdaa6",
   "outputs": [
    {
     "name": "stdout",
     "output_type": "stream",
     "text": [
      "+----------+--------+---------+\n",
      "|CustomerID|Quantity|UnitPrice|\n",
      "+----------+--------+---------+\n",
      "|     17850|       6|     2.55|\n",
      "|     17850|       6|     3.39|\n",
      "|     17850|       8|     2.75|\n",
      "|     17850|       6|     3.39|\n",
      "|     17850|       6|     3.39|\n",
      "|     17850|       2|     7.65|\n",
      "|     17850|       6|     4.25|\n",
      "|     17850|       6|     1.85|\n",
      "|     17850|       6|     1.85|\n",
      "|     13047|      32|     1.69|\n",
      "|     13047|       6|      2.1|\n",
      "|     13047|       6|      2.1|\n",
      "|     13047|       8|     3.75|\n",
      "|     13047|       6|     1.65|\n",
      "|     13047|       6|     4.25|\n",
      "|     13047|       3|     4.95|\n",
      "|     13047|       2|     9.95|\n",
      "|     13047|       3|     5.95|\n",
      "|     13047|       3|     5.95|\n",
      "|     13047|       4|     7.95|\n",
      "+----------+--------+---------+\n",
      "only showing top 20 rows\n",
      "\n"
     ]
    }
   ],
   "execution_count": 32
  },
  {
   "metadata": {
    "ExecuteTime": {
     "end_time": "2024-08-16T00:45:29.496094Z",
     "start_time": "2024-08-16T00:45:29.476954Z"
    }
   },
   "cell_type": "code",
   "source": "m_val = df3.withColumn('TotalAmount',col(\"Quantity\") * col(\"UnitPrice\"))",
   "id": "dd9fd231e08e8c2a",
   "outputs": [],
   "execution_count": 33
  },
  {
   "metadata": {
    "ExecuteTime": {
     "end_time": "2024-08-16T00:46:06.688258Z",
     "start_time": "2024-08-16T00:46:06.676199Z"
    }
   },
   "cell_type": "code",
   "source": "m_val = m_val.groupBy('CustomerID').agg(sum('TotalAmount').alias('monetary_value'))",
   "id": "9ac7dc9b90246d1e",
   "outputs": [],
   "execution_count": 35
  },
  {
   "metadata": {
    "ExecuteTime": {
     "end_time": "2024-08-16T00:46:38.328595Z",
     "start_time": "2024-08-16T00:46:38.310950Z"
    }
   },
   "cell_type": "code",
   "source": "find_df = m_val.join(df3, on='CustomerID', how='inner')",
   "id": "570bc835df0ef8c4",
   "outputs": [],
   "execution_count": 37
  },
  {
   "metadata": {
    "ExecuteTime": {
     "end_time": "2024-08-16T00:47:15.023249Z",
     "start_time": "2024-08-16T00:47:15.009315Z"
    }
   },
   "cell_type": "code",
   "source": "find_df = find_df.select(['recency', 'frequency', 'monetary_value', 'CustomerID']).distinct()",
   "id": "efd54aaaf6e1dd51",
   "outputs": [],
   "execution_count": 38
  },
  {
   "metadata": {
    "ExecuteTime": {
     "end_time": "2024-08-16T00:47:47.368648Z",
     "start_time": "2024-08-16T00:47:46.540035Z"
    }
   },
   "cell_type": "code",
   "source": "find_df.show(5, 0)",
   "id": "e97bc90398261cd1",
   "outputs": [
    {
     "name": "stdout",
     "output_type": "stream",
     "text": [
      "+-----------+---------+------------------+----------+\n",
      "|recency    |frequency|monetary_value    |CustomerID|\n",
      "+-----------+---------+------------------+----------+\n",
      "|63113908832|14       |226.14            |16250     |\n",
      "|63116608052|121      |375.65            |15574     |\n",
      "|63124376792|32       |198.43            |15555     |\n",
      "|63116613512|23       |143.45            |17757     |\n",
      "|63124382732|169      |1415.9700000000003|13174     |\n",
      "+-----------+---------+------------------+----------+\n",
      "only showing top 5 rows\n",
      "\n"
     ]
    }
   ],
   "execution_count": 41
  },
  {
   "metadata": {},
   "cell_type": "markdown",
   "source": "### Standardization",
   "id": "85c14ce23f3f9062"
  },
  {
   "metadata": {
    "ExecuteTime": {
     "end_time": "2024-08-16T00:50:17.460146Z",
     "start_time": "2024-08-16T00:50:16.019639Z"
    }
   },
   "cell_type": "code",
   "source": [
    "from pyspark.ml.feature import VectorAssembler\n",
    "from pyspark.ml.feature import StandardScaler\n",
    "\n",
    "assemble = VectorAssembler(inputCols=[\n",
    "    'recency', 'frequency', 'monetary_value'\n",
    "], outputCol='features')\n",
    "\n",
    "assembled_data=assemble.transform(find_df)\n",
    "\n",
    "scale=StandardScaler(inputCol='features', outputCol='standardized')\n",
    "data_scale=scale.fit(assembled_data)\n",
    "data_scale_output=data_scale.transform(assembled_data)"
   ],
   "id": "6d9b77344d838472",
   "outputs": [],
   "execution_count": 42
  },
  {
   "metadata": {
    "ExecuteTime": {
     "end_time": "2024-08-16T00:50:44.810928Z",
     "start_time": "2024-08-16T00:50:43.998466Z"
    }
   },
   "cell_type": "code",
   "source": "data_scale_output.select('standardized').show(2, truncate=False)",
   "id": "6dc45ffedf114500",
   "outputs": [
    {
     "name": "stdout",
     "output_type": "stream",
     "text": [
      "+---------------------------------------------------------+\n",
      "|standardized                                             |\n",
      "+---------------------------------------------------------+\n",
      "|[13356.338433150926,0.565625077904778,0.5902534489538569]|\n",
      "|[13356.909649488065,4.888616744748438,0.9804930932144527]|\n",
      "+---------------------------------------------------------+\n",
      "only showing top 2 rows\n",
      "\n"
     ]
    }
   ],
   "execution_count": 43
  },
  {
   "metadata": {},
   "cell_type": "markdown",
   "source": "### Step 5: Building the Machine Learning Model",
   "id": "aaf31cf78ce783af"
  },
  {
   "metadata": {},
   "cell_type": "markdown",
   "source": "#### i) Finding the number of clusters to use",
   "id": "a4ae6a2df5bc9902"
  },
  {
   "metadata": {
    "ExecuteTime": {
     "end_time": "2024-08-16T00:57:32.977445Z",
     "start_time": "2024-08-16T00:57:15.627795Z"
    }
   },
   "cell_type": "code",
   "source": [
    "from pyspark.ml.clustering import KMeans\n",
    "from pyspark.ml.evaluation import ClusteringEvaluator\n",
    "import numpy as np\n",
    "\n",
    "cost = np.zeros(10)\n",
    "\n",
    "evaluator=ClusteringEvaluator(predictionCol='prediction', featuresCol='standardized', metricName='silhouette', distanceMeasure='squaredEuclidean')\n",
    "\n",
    "for i in range(2, 10):\n",
    "    KMeans_algo = KMeans(featuresCol='standardized', k=i)\n",
    "    KMeans_fit = KMeans_algo.fit(data_scale_output)\n",
    "    output=KMeans_fit.transform(data_scale_output)\n",
    "    cost[i] = KMeans_fit.summary.trainingCost"
   ],
   "id": "5890bb092caac1f3",
   "outputs": [],
   "execution_count": 44
  },
  {
   "metadata": {
    "ExecuteTime": {
     "end_time": "2024-08-16T01:04:21.948763Z",
     "start_time": "2024-08-16T01:04:21.118240Z"
    }
   },
   "cell_type": "code",
   "source": [
    "import pandas as pd\n",
    "import matplotlib.pyplot as pl\n",
    "\n",
    "df_cost = pd.DataFrame(cost[2:])\n",
    "df_cost.columns = [\"cost\"]\n",
    "new_col = range(2,10)\n",
    "df_cost.insert(0, 'cluster', new_col)\n",
    "pl.plot(df_cost.cluster, df_cost.cost)\n",
    "pl.xlabel('Number of Clusters')\n",
    "pl.ylabel('Score')\n",
    "pl.title('Elbow Curve')\n",
    "pl.show()"
   ],
   "id": "c849094436291378",
   "outputs": [
    {
     "data": {
      "text/plain": [
       "<Figure size 640x480 with 1 Axes>"
      ],
      "image/png": "[encoded data removed]"
     },
     "metadata": {},
     "output_type": "display_data"
    }
   ],
   "execution_count": 45
  },
  {
   "metadata": {},
   "cell_type": "markdown",
   "source": "#### ii) Building the K-Means Clustering Model",
   "id": "462b4827e07ca9e0"
  },
  {
   "metadata": {
    "ExecuteTime": {
     "end_time": "2024-08-16T01:05:59.502460Z",
     "start_time": "2024-08-16T01:05:56.631606Z"
    }
   },
   "cell_type": "code",
   "source": [
    "KMeans_algo = KMeans(featuresCol='standardized', k=4)\n",
    "KMeans_fit = KMeans_algo.fit(data_scale_output)"
   ],
   "id": "418fb7963294650e",
   "outputs": [],
   "execution_count": 46
  },
  {
   "metadata": {},
   "cell_type": "markdown",
   "source": "#### iii) Making Predictions",
   "id": "35d8b8bfa3224462"
  },
  {
   "metadata": {
    "ExecuteTime": {
     "end_time": "2024-08-16T01:06:43.092399Z",
     "start_time": "2024-08-16T01:06:42.283750Z"
    }
   },
   "cell_type": "code",
   "source": [
    "preds = KMeans_fit.transform(data_scale_output)\n",
    "\n",
    "preds.show(5,0)"
   ],
   "id": "f253439095924fce",
   "outputs": [
    {
     "name": "stdout",
     "output_type": "stream",
     "text": [
      "+-----------+---------+------------------+----------+------------------------------------------+----------------------------------------------------------+----------+\n",
      "|recency    |frequency|monetary_value    |CustomerID|features                                  |standardized                                              |prediction|\n",
      "+-----------+---------+------------------+----------+------------------------------------------+----------------------------------------------------------+----------+\n",
      "|63113908832|14       |226.14            |16250     |[6.3113908832E10,14.0,226.14]             |[13356.338433150926,0.565625077904778,0.5902534489538569] |3         |\n",
      "|63116608052|121      |375.65            |15574     |[6.3116608052E10,121.0,375.65]            |[13356.909649488065,4.888616744748438,0.9804930932144527] |1         |\n",
      "|63124376792|32       |198.43            |15555     |[6.3124376792E10,32.0,198.43]             |[13358.553691547246,1.2928573209252068,0.5179269119833458]|2         |\n",
      "|63116613512|23       |143.45            |17757     |[6.3116613512E10,23.0,143.45]             |[13356.910804948235,0.9292411994149924,0.374422292617099] |3         |\n",
      "|63124382732|169      |1415.9700000000003|13174     |[6.3124382732E10,169.0,1415.9700000000003]|[13358.554948586332,6.827902726136248,3.6958573278287474] |1         |\n",
      "+-----------+---------+------------------+----------+------------------------------------------+----------------------------------------------------------+----------+\n",
      "only showing top 5 rows\n",
      "\n"
     ]
    }
   ],
   "execution_count": 47
  },
  {
   "metadata": {},
   "cell_type": "markdown",
   "source": "### Step 6: Cluster Analysis",
   "id": "62e43c864e95a663"
  },
  {
   "metadata": {
    "ExecuteTime": {
     "end_time": "2024-08-16T01:10:59.424319Z",
     "start_time": "2024-08-16T01:10:58.310920Z"
    }
   },
   "cell_type": "code",
   "source": [
    "import matplotlib.pyplot as plt\n",
    "import seaborn as sns\n",
    "\n",
    "df_viz = preds.select('recency','frequency','monetary_value','prediction')\n",
    "df_viz = df_viz.toPandas()\n",
    "avg_df = df_viz.groupby(['prediction'], as_index=False).mean()\n",
    "\n",
    "list1 = ['recency', 'frequency', 'monetary_value']\n",
    "\n",
    "for i in list1:\n",
    "    sns.barplot(x='prediction', y=str(i), data=avg_df)\n",
    "    plt.show()"
   ],
   "id": "4900eee4e2957127",
   "outputs": [
    {
     "data": {
      "text/plain": [
       "<Figure size 640x480 with 1 Axes>"
      ],
      "image/png": "[encoded data removed]"
     },
     "metadata": {},
     "output_type": "display_data"
    },
    {
     "data": {
      "text/plain": [
       "<Figure size 640x480 with 1 Axes>"
      ],
      "image/png": "[encoded data removed]"
     },
     "metadata": {},
     "output_type": "display_data"
    },
    {
     "data": {
      "text/plain": [
       "<Figure size 640x480 with 1 Axes>"
      ],
      "image/png": "[encoded data removed]"
     },
     "metadata": {},
     "output_type": "display_data"
    }
   ],
   "execution_count": 48
  },
  {
   "metadata": {},
   "cell_type": "code",
   "outputs": [],
   "execution_count": null,
   "source": "",
   "id": "5e479fccb30328b6"
  }
 ],
 "metadata": {
  "kernelspec": {
   "display_name": "Python 3 (ipykernel)",
   "language": "python",
   "name": "python3"
  },
  "language_info": {
   "codemirror_mode": {
    "name": "ipython",
    "version": 3
   },
   "file_extension": ".py",
   "mimetype": "text/x-python",
   "name": "python",
   "nbconvert_exporter": "python",
   "pygments_lexer": "ipython3",
   "version": "3.12.2"
  }
 },
 "nbformat": 4,
 "nbformat_minor": 5
}
