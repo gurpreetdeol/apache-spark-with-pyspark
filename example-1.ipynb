{
 "cells": [
  {
   "cell_type": "code",
   "id": "initial_id",
   "metadata": {
    "ExecuteTime": {
     "end_time": "2024-08-16T00:13:08.502542Z",
     "start_time": "2024-08-16T00:13:08.438522Z"
    }
   },
   "source": [
    "from pyspark.sql import SparkSession"
   ],
   "outputs": [],
   "execution_count": 1
  },
  {
   "cell_type": "code",
   "id": "91ddf2fc14adf2df",
   "metadata": {
    "ExecuteTime": {
     "end_time": "2024-08-16T00:13:09.435772Z",
     "start_time": "2024-08-16T00:13:09.432988Z"
    }
   },
   "source": "# spark = SparkSession.builder.appName(\"Pyspark App\").getOrCreate()",
   "outputs": [],
   "execution_count": 2
  },
  {
   "cell_type": "code",
   "id": "54a2da9b14fef2fe",
   "metadata": {
    "ExecuteTime": {
     "end_time": "2024-08-16T00:13:12.826904Z",
     "start_time": "2024-08-16T00:13:10.334612Z"
    }
   },
   "source": "spark = SparkSession.builder.appName(\"PysparkApp\").master(\"local[*]\").config(\"spark.memory.offHeap.enabled\",\"true\").config(\"spark.memory.offHeap.size\",\"10g\").getOrCreate()",
   "outputs": [],
   "execution_count": 3
  },
  {
   "cell_type": "code",
   "id": "aba5545e38de28ef",
   "metadata": {
    "ExecuteTime": {
     "end_time": "2024-08-16T00:13:22.485942Z",
     "start_time": "2024-08-16T00:13:20.126774Z"
    }
   },
   "source": [
    "df = spark.read.csv('data/datalab_export_2024-08-14 18_52_46.csv',header=True,escape=\"\\\"\")"
   ],
   "outputs": [],
   "execution_count": 4
  },
  {
   "cell_type": "code",
   "id": "91b8cc62-b174-46ef-b33f-95633393630c",
   "metadata": {
    "ExecuteTime": {
     "end_time": "2024-08-16T00:13:40.633733Z",
     "start_time": "2024-08-16T00:13:40.502162Z"
    }
   },
   "source": [
    "df.show(5,0)"
   ],
   "outputs": [
    {
     "name": "stdout",
     "output_type": "stream",
     "text": [
      "+---------+---------+-----------------------------------+--------+------------+---------+----------+--------------+\n",
      "|InvoiceNo|StockCode|Description                        |Quantity|InvoiceDate |UnitPrice|CustomerID|Country       |\n",
      "+---------+---------+-----------------------------------+--------+------------+---------+----------+--------------+\n",
      "|536365   |85123A   |WHITE HANGING HEART T-LIGHT HOLDER |6       |12/1/10 8:26|2.55     |17850     |United Kingdom|\n",
      "|536365   |71053    |WHITE METAL LANTERN                |6       |12/1/10 8:26|3.39     |17850     |United Kingdom|\n",
      "|536365   |84406B   |CREAM CUPID HEARTS COAT HANGER     |8       |12/1/10 8:26|2.75     |17850     |United Kingdom|\n",
      "|536365   |84029G   |KNITTED UNION FLAG HOT WATER BOTTLE|6       |12/1/10 8:26|3.39     |17850     |United Kingdom|\n",
      "|536365   |84029E   |RED WOOLLY HOTTIE WHITE HEART.     |6       |12/1/10 8:26|3.39     |17850     |United Kingdom|\n",
      "+---------+---------+-----------------------------------+--------+------------+---------+----------+--------------+\n",
      "only showing top 5 rows\n",
      "\n"
     ]
    }
   ],
   "execution_count": 5
  },
  {
   "cell_type": "code",
   "id": "5e3f5a7c-d121-497f-aa43-227f7bf07994",
   "metadata": {
    "ExecuteTime": {
     "end_time": "2024-08-16T00:13:42.302906Z",
     "start_time": "2024-08-16T00:13:41.974859Z"
    }
   },
   "source": "df.count()",
   "outputs": [
    {
     "data": {
      "text/plain": [
       "12500"
      ]
     },
     "execution_count": 6,
     "metadata": {},
     "output_type": "execute_result"
    }
   ],
   "execution_count": 6
  },
  {
   "metadata": {
    "ExecuteTime": {
     "end_time": "2024-08-16T00:13:43.892263Z",
     "start_time": "2024-08-16T00:13:43.889209Z"
    }
   },
   "cell_type": "code",
   "source": "df.columns",
   "id": "da3088dcc160e46c",
   "outputs": [
    {
     "data": {
      "text/plain": [
       "['InvoiceNo',\n",
       " 'StockCode',\n",
       " 'Description',\n",
       " 'Quantity',\n",
       " 'InvoiceDate',\n",
       " 'UnitPrice',\n",
       " 'CustomerID',\n",
       " 'Country']"
      ]
     },
     "execution_count": 7,
     "metadata": {},
     "output_type": "execute_result"
    }
   ],
   "execution_count": 7
  },
  {
   "metadata": {},
   "cell_type": "code",
   "outputs": [],
   "execution_count": null,
   "source": "",
   "id": "24d3c3e3fe5c7b2e"
  }
 ],
 "metadata": {
  "kernelspec": {
   "display_name": "Python 3 (ipykernel)",
   "language": "python",
   "name": "python3"
  },
  "language_info": {
   "codemirror_mode": {
    "name": "ipython",
    "version": 3
   },
   "file_extension": ".py",
   "mimetype": "text/x-python",
   "name": "python",
   "nbconvert_exporter": "python",
   "pygments_lexer": "ipython3",
   "version": "3.12.2"
  }
 },
 "nbformat": 4,
 "nbformat_minor": 5
}
